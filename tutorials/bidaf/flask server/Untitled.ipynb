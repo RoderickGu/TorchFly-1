{
 "cells": [
  {
   "cell_type": "code",
   "execution_count": 1,
   "metadata": {},
   "outputs": [],
   "source": [
    "import torch\n",
    "from torchtext import data\n",
    "from torchtext import datasets\n",
    "import random"
   ]
  },
  {
   "cell_type": "code",
   "execution_count": 3,
   "metadata": {},
   "outputs": [
    {
     "name": "stdout",
     "output_type": "stream",
     "text": [
      "Collecting en_core_web_sm==2.0.0 from https://github.com/explosion/spacy-models/releases/download/en_core_web_sm-2.0.0/en_core_web_sm-2.0.0.tar.gz#egg=en_core_web_sm==2.0.0\n",
      "\u001b[?25l  Downloading https://github.com/explosion/spacy-models/releases/download/en_core_web_sm-2.0.0/en_core_web_sm-2.0.0.tar.gz (37.4MB)\n",
      "\u001b[K    100% |████████████████████████████████| 37.4MB 16.7MB/s ta 0:00:01    96% |███████████████████████████████ | 36.2MB 26.0MB/s eta 0:00:01\n",
      "\u001b[?25hInstalling collected packages: en-core-web-sm\n",
      "  Running setup.py install for en-core-web-sm ... \u001b[?25ldone\n",
      "\u001b[?25hSuccessfully installed en-core-web-sm-2.0.0\n",
      "\n",
      "\u001b[93m    Linking successful\u001b[0m\n",
      "    /opt/conda/lib/python3.6/site-packages/en_core_web_sm -->\n",
      "    /opt/conda/lib/python3.6/site-packages/spacy/data/en\n",
      "\n",
      "    You can now load the model via spacy.load('en')\n",
      "\n"
     ]
    }
   ],
   "source": [
    "!python -m spacy download en"
   ]
  },
  {
   "cell_type": "code",
   "execution_count": 6,
   "metadata": {},
   "outputs": [],
   "source": [
    "SEED = 1"
   ]
  },
  {
   "cell_type": "code",
   "execution_count": 4,
   "metadata": {},
   "outputs": [],
   "source": [
    "TEXT = data.Field(tokenize='spacy')\n",
    "LABEL = data.LabelField(dtype=torch.float)"
   ]
  },
  {
   "cell_type": "code",
   "execution_count": 7,
   "metadata": {},
   "outputs": [],
   "source": [
    "train_data, test_data = datasets.IMDB.splits(TEXT, LABEL)\n",
    "\n",
    "train_data, valid_data = train_data.split(random_state=random.seed(SEED))"
   ]
  },
  {
   "cell_type": "code",
   "execution_count": 9,
   "metadata": {},
   "outputs": [],
   "source": [
    "\n",
    "BATCH_SIZE = 64\n",
    "\n",
    "device = torch.device('cuda' if torch.cuda.is_available() else 'cpu')\n",
    "\n",
    "train_iterator, valid_iterator, test_iterator = data.BucketIterator.splits(\n",
    "    (train_data, valid_data, test_data), \n",
    "    batch_size=BATCH_SIZE, \n",
    "    device=device)"
   ]
  },
  {
   "cell_type": "code",
   "execution_count": 10,
   "metadata": {},
   "outputs": [
    {
     "data": {
      "text/plain": [
       "<torchtext.data.iterator.BucketIterator at 0x7f8fd592e390>"
      ]
     },
     "execution_count": 10,
     "metadata": {},
     "output_type": "execute_result"
    }
   ],
   "source": [
    "train_iterator"
   ]
  },
  {
   "cell_type": "code",
   "execution_count": 16,
   "metadata": {},
   "outputs": [],
   "source": [
    "item = train_data.__getitem__(0)"
   ]
  },
  {
   "cell_type": "code",
   "execution_count": 18,
   "metadata": {},
   "outputs": [
    {
     "data": {
      "text/plain": [
       "['If',\n",
       " 'you',\n",
       " 'want',\n",
       " 'your',\n",
       " 'vision',\n",
       " 'of',\n",
       " 'Chaplin',\n",
       " 'limited',\n",
       " 'to',\n",
       " 'a',\n",
       " 'lovable',\n",
       " 'tramp',\n",
       " 'and',\n",
       " 'you',\n",
       " 'get',\n",
       " 'your',\n",
       " 'belly',\n",
       " 'laughs',\n",
       " 'from',\n",
       " 'pathos',\n",
       " ',',\n",
       " 'watch',\n",
       " 'something',\n",
       " 'else',\n",
       " '.',\n",
       " 'If',\n",
       " ',',\n",
       " 'however',\n",
       " ',',\n",
       " 'you',\n",
       " 'love',\n",
       " 'slapstick',\n",
       " 'comedy',\n",
       " 'as',\n",
       " 'performed',\n",
       " 'by',\n",
       " 'one',\n",
       " 'of',\n",
       " 'the',\n",
       " 'best',\n",
       " ',',\n",
       " 'do',\n",
       " 'watch',\n",
       " 'this',\n",
       " 'one.<br',\n",
       " '/><br',\n",
       " '/>The',\n",
       " 'image',\n",
       " 'is',\n",
       " 'of',\n",
       " 'the',\n",
       " 'tramp',\n",
       " 'who',\n",
       " 'really',\n",
       " 'can',\n",
       " 'not',\n",
       " 'get',\n",
       " 'the',\n",
       " 'girl',\n",
       " '.',\n",
       " 'He',\n",
       " 'spots',\n",
       " 'another',\n",
       " 'couple',\n",
       " 'kissing',\n",
       " 'on',\n",
       " 'a',\n",
       " 'park',\n",
       " 'bench',\n",
       " ',',\n",
       " 'and',\n",
       " 'he',\n",
       " 'has',\n",
       " 'a',\n",
       " 'blast',\n",
       " 'ruining',\n",
       " 'their',\n",
       " 'fun.<br',\n",
       " '/><br',\n",
       " '/>This',\n",
       " 'is',\n",
       " 'one',\n",
       " 'of',\n",
       " 'Chaplin',\n",
       " \"'s\",\n",
       " '\"',\n",
       " 'park',\n",
       " 'comedies',\n",
       " ',',\n",
       " '\"',\n",
       " 'filmed',\n",
       " 'in',\n",
       " 'Mack',\n",
       " 'Sennett',\n",
       " \"'s\",\n",
       " 'park',\n",
       " ',',\n",
       " 'with',\n",
       " 'pickpockets',\n",
       " 'and',\n",
       " 'cops',\n",
       " 'and',\n",
       " 'couples',\n",
       " '.',\n",
       " 'These',\n",
       " 'shorts',\n",
       " 'work',\n",
       " ',',\n",
       " 'as',\n",
       " 'the',\n",
       " 'format',\n",
       " 'allows',\n",
       " 'Chaplin',\n",
       " 'to',\n",
       " 'shine',\n",
       " 'as',\n",
       " 'he',\n",
       " 'weaves',\n",
       " 'through',\n",
       " 'predicaments.<br',\n",
       " '/><br',\n",
       " '/>I',\n",
       " 'checked',\n",
       " 'the',\n",
       " 'box',\n",
       " ',',\n",
       " 'as',\n",
       " 'this',\n",
       " 'could',\n",
       " 'be',\n",
       " 'considered',\n",
       " 'a',\n",
       " 'spoiler',\n",
       " ',',\n",
       " 'though',\n",
       " 'it',\n",
       " \"'s\",\n",
       " 'not',\n",
       " 'if',\n",
       " 'you',\n",
       " \"'ve\",\n",
       " 'seen',\n",
       " 'these',\n",
       " 'films',\n",
       " '.',\n",
       " 'Everyone',\n",
       " 'ends',\n",
       " 'up',\n",
       " 'in',\n",
       " 'the',\n",
       " 'pond',\n",
       " 'except',\n",
       " 'Chaplin',\n",
       " '.',\n",
       " 'He',\n",
       " 'gets',\n",
       " 'the',\n",
       " 'girl',\n",
       " ',',\n",
       " 'who',\n",
       " 'in',\n",
       " 'this',\n",
       " 'case',\n",
       " 'was',\n",
       " 'played',\n",
       " 'by',\n",
       " 'Minta',\n",
       " 'Durfee',\n",
       " ',',\n",
       " 'a.k.a',\n",
       " '.',\n",
       " 'Mrs.',\n",
       " 'Roscoe',\n",
       " '\"',\n",
       " 'Fatty',\n",
       " '\"',\n",
       " 'Arbuckle',\n",
       " '.']"
      ]
     },
     "execution_count": 18,
     "metadata": {},
     "output_type": "execute_result"
    }
   ],
   "source": [
    "item.text"
   ]
  },
  {
   "cell_type": "code",
   "execution_count": 19,
   "metadata": {},
   "outputs": [],
   "source": [
    "import torch\n",
    "import torch.nn as nn"
   ]
  },
  {
   "cell_type": "code",
   "execution_count": 20,
   "metadata": {},
   "outputs": [],
   "source": [
    "embedding = nn.Embedding(1000, 100)"
   ]
  },
  {
   "cell_type": "code",
   "execution_count": 27,
   "metadata": {},
   "outputs": [
    {
     "data": {
      "text/plain": [
       "torchtext.vocab.Vocab"
      ]
     },
     "execution_count": 27,
     "metadata": {},
     "output_type": "execute_result"
    }
   ],
   "source": [
    "TEXT.vocab_cls"
   ]
  },
  {
   "cell_type": "code",
   "execution_count": 29,
   "metadata": {},
   "outputs": [],
   "source": [
    "import torchtext"
   ]
  },
  {
   "cell_type": "code",
   "execution_count": 30,
   "metadata": {},
   "outputs": [
    {
     "name": "stderr",
     "output_type": "stream",
     "text": [
      ".vector_cache/glove.6B.zip: 862MB [01:25, 10.0MB/s]                              \n",
      "100%|█████████▉| 398104/400000 [00:30<00:00, 26069.03it/s]"
     ]
    }
   ],
   "source": [
    "glove = torchtext.vocab.GloVe(name='6B', dim=100)"
   ]
  },
  {
   "cell_type": "code",
   "execution_count": null,
   "metadata": {},
   "outputs": [],
   "source": []
  }
 ],
 "metadata": {
  "kernelspec": {
   "display_name": "Python 3",
   "language": "python",
   "name": "python3"
  },
  "language_info": {
   "codemirror_mode": {
    "name": "ipython",
    "version": 3
   },
   "file_extension": ".py",
   "mimetype": "text/x-python",
   "name": "python",
   "nbconvert_exporter": "python",
   "pygments_lexer": "ipython3",
   "version": "3.6.6"
  }
 },
 "nbformat": 4,
 "nbformat_minor": 2
}
